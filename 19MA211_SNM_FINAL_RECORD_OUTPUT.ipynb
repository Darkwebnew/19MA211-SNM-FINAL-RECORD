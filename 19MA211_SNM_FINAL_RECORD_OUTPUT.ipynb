{
  "nbformat": 4,
  "nbformat_minor": 0,
  "metadata": {
    "colab": {
      "provenance": [],
      "authorship_tag": "ABX9TyMYO6UheXkSA7CTO77PnvWp",
      "include_colab_link": true
    },
    "kernelspec": {
      "name": "python3",
      "display_name": "Python 3"
    },
    "language_info": {
      "name": "python"
    }
  },
  "cells": [
    {
      "cell_type": "markdown",
      "metadata": {
        "id": "view-in-github",
        "colab_type": "text"
      },
      "source": [
        "<a href=\"https://colab.research.google.com/github/Darkwebnew/19MA211-SNM-FINAL-RECORD/blob/main/19MA211_SNM_FINAL_RECORD_OUTPUT.ipynb\" target=\"_parent\"><img src=\"https://colab.research.google.com/assets/colab-badge.svg\" alt=\"Open In Colab\"/></a>"
      ]
    },
    {
      "cell_type": "code",
      "execution_count": 4,
      "metadata": {
        "colab": {
          "base_uri": "https://localhost:8080/"
        },
        "id": "bSUe0rxsrz6-",
        "outputId": "1934830c-dfb8-48d1-cf0e-8d426763f747"
      },
      "outputs": [
        {
          "output_type": "stream",
          "name": "stdout",
          "text": [
            "Enter the initial approximation: 1\n",
            "The approximate root using Newton-Raphson method is 1.5214\n"
          ]
        }
      ],
      "source": [
        "def f(x):\n",
        " return x**3-x-2\n",
        "def f1(x):\n",
        " return 3*x**2-1\n",
        "xo=float (input (\"Enter the initial approximation: \"))\n",
        "for i in range (1,10):\n",
        " xn=xo-f(xo)/f1(xo)\n",
        " xo=xn\n",
        "print (\"The approximate root using Newton-Raphson method is %.4f\"%xn)"
      ]
    },
    {
      "cell_type": "code",
      "source": [
        "x0=0; y0=0; z0=0\n",
        "for i in range (1,10):\n",
        " x=1/4*(1-y0-z0)\n",
        " x0=x\n",
        " y=1/3*(2-x0-z0)\n",
        " y0=y\n",
        " z=1/5*(3-x0-y0)\n",
        " z0=z\n",
        "print (\"The approximate solution of x = %.4f, y= %.4f, z=%.4f\"% (x, y, z))"
      ],
      "metadata": {
        "colab": {
          "base_uri": "https://localhost:8080/"
        },
        "id": "QPe7-uTttZua",
        "outputId": "6a33df97-5ff7-4958-fea1-05679436dc5e"
      },
      "execution_count": 5,
      "outputs": [
        {
          "output_type": "stream",
          "name": "stdout",
          "text": [
            "The approximate solution of x = 0.0000, y= 0.5000, z=0.5000\n"
          ]
        }
      ]
    },
    {
      "cell_type": "code",
      "source": [
        "x = [0, 1, 2, 4, 5, 6]\n",
        "y = [1, 14, 15, 5, 6, 19]\n",
        "s = float(input(\"Enter the value of x to be interpolated: \"))\n",
        "result = 0\n",
        "\n",
        "for i in range(0, 6):\n",
        "    prod = 1\n",
        "    for j in range(0, 6):\n",
        "        if i != j:\n",
        "            prod = prod * (s - x[j]) / (x[i] - x[j])\n",
        "    result = result + prod * y[i]\n",
        "\n",
        "print(\"The functional value is %.4f\" % result)"
      ],
      "metadata": {
        "colab": {
          "base_uri": "https://localhost:8080/"
        },
        "id": "sGTmoimuuU9U",
        "outputId": "e89bb3d5-409d-4532-e9a2-4adce0019d2e"
      },
      "execution_count": 8,
      "outputs": [
        {
          "output_type": "stream",
          "name": "stdout",
          "text": [
            "Enter the value of x to be interpolated: 10\n",
            "The functional value is 311.0000\n"
          ]
        }
      ]
    },
    {
      "cell_type": "code",
      "source": [
        "def f(x):\n",
        " return 1/(1+x**2)\n",
        "a=float (input (\"Enter the lower limit: \"))\n",
        "b=float (input (\"Enter the upperlimit: \"))\n",
        "h=float (input (\"Enter the step size: \"))\n",
        "n=int((b-a)/h)\n",
        "sum=0\n",
        "for i in range (1, n):\n",
        " sum=sum+f(a+i*h)\n",
        "trap=h/2*(f(a)+f(b)+2*sum)\n",
        "print (\"The Integral value is %.5f\"%trap)"
      ],
      "metadata": {
        "colab": {
          "base_uri": "https://localhost:8080/"
        },
        "id": "O8V22R2MuVtu",
        "outputId": "bc220afb-55a3-482f-ad4b-87bf0cfa72a2"
      },
      "execution_count": 9,
      "outputs": [
        {
          "output_type": "stream",
          "name": "stdout",
          "text": [
            "Enter the lower limit: 0\n",
            "Enter the upperlimit: 1\n",
            "Enter the step size: 0.2\n",
            "The Integral value is 0.78373\n"
          ]
        }
      ]
    },
    {
      "cell_type": "code",
      "source": [
        "def f (x, y):\n",
        " return x+y**2\n",
        "x0=float (input (\"Enter initial point of x: \"))\n",
        "y0=float (input (\"Enter initial point of y: \"))\n",
        "h=float (input (\"Enter step value h: \"))\n",
        "k1=h*f (x0, y0)\n",
        "k2=h*f (x0+h/2, y0+k1/2)\n",
        "k3=h*f (x0+h/2, y0+k2/2)\n",
        "k4=h*f (x0+h, y0+k3)\n",
        "y=y0+(k1+2*k2+2*k3+k4)/6\n",
        "print (\"The value of y using RK method is %.4f\"%y)"
      ],
      "metadata": {
        "colab": {
          "base_uri": "https://localhost:8080/"
        },
        "id": "1aJtm372vmEz",
        "outputId": "3bdeb45f-a501-43d6-cdb6-a379f532eb06"
      },
      "execution_count": 10,
      "outputs": [
        {
          "output_type": "stream",
          "name": "stdout",
          "text": [
            "Enter initial point of x: 0\n",
            "Enter initial point of y: 1\n",
            "Enter step value h: 0.2\n",
            "The value of y using RK method is 1.2735\n"
          ]
        }
      ]
    },
    {
      "cell_type": "code",
      "source": [
        "def f (x, y):\n",
        " return x**2*(1+y)\n",
        "x0=float (input (\"Enter x0: \"))\n",
        "y0=float (input (\"Enter y0: \"))\n",
        "x1=float (input (\"Enter x1: \"))\n",
        "y1=float (input (\"Enter y1: \"))\n",
        "x2=float (input (\"Enter x2: \"))\n",
        "y2=float (input (\"Enter y2: \"))\n",
        "x3=float (input (\"Enter x3: \"))\n",
        "y3=float (input (\"Enter y3: \"))\n",
        "h =0.1\n",
        "y4p=y3+(h/24) *(55*f (x3, y3)-59*f (x2, y2) +37*f (x1, y1)-9*f (x0,\n",
        "y0))\n",
        "x4=x3+h\n",
        "y4c=y3+(h/24) *(9*f (x4, y4p) +19*f (x3, y3)-5*f (x2, y2) +f (x1, y1))\n",
        "print (\"Approximate soln is %0.4f\"%y4c)"
      ],
      "metadata": {
        "colab": {
          "base_uri": "https://localhost:8080/"
        },
        "id": "Z9F35nB_vrbQ",
        "outputId": "ce8496e4-0534-4b1c-d4f1-d5bbea93bc29"
      },
      "execution_count": 11,
      "outputs": [
        {
          "output_type": "stream",
          "name": "stdout",
          "text": [
            "Enter x0: 1\n",
            "Enter y0: 1\n",
            "Enter x1: 1.1\n",
            "Enter y1: 1.233\n",
            "Enter x2: 1.2\n",
            "Enter y2: 1.548\n",
            "Enter x3: 1.3\n",
            "Enter y3: 1.979\n",
            "Approximate soln is 2.5749\n"
          ]
        }
      ]
    },
    {
      "cell_type": "code",
      "source": [],
      "metadata": {
        "id": "QOL5rhqPwBKE"
      },
      "execution_count": null,
      "outputs": []
    }
  ]
}